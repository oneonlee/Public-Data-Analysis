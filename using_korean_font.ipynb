{
  "nbformat": 4,
  "nbformat_minor": 0,
  "metadata": {
    "colab": {
      "name": "using_korean_font.ipynb",
      "provenance": [],
      "collapsed_sections": []
    },
    "kernelspec": {
      "name": "python3",
      "display_name": "Python 3"
    },
    "language_info": {
      "name": "python"
    }
  },
  "cells": [
    {
      "cell_type": "markdown",
      "source": [
        "# Google Colab에서 한글 폰트 사용하는 코드 (아래 복사)"
      ],
      "metadata": {
        "id": "82sYzbypIFXN"
      }
    },
    {
      "cell_type": "code",
      "execution_count": null,
      "metadata": {
        "id": "UKo35U1PIEn_"
      },
      "outputs": [],
      "source": [
        "!apt-get update -qq\n",
        "!apt-get install fonts-nanum* -qq\n",
        "\n",
        "import matplotlib.pyplot as plt\n",
        "import matplotlib.font_manager as fm\n",
        "import warnings\n",
        "warnings.filterwarnings(action='ignore') \n",
        "\n",
        "path = '/usr/share/fonts/truetype/nanum/NanumGothic.ttf' # 나눔 고딕\n",
        "font_name = fm.FontProperties(fname=path, size=10).get_name() # 기본 폰트 사이즈 : 10\n",
        "plt.rc('font', family=font_name)\n",
        "plt.rcParams['axes.unicode_minus']=False\n",
        "fm._rebuild()"
      ]
    },
    {
      "cell_type": "markdown",
      "source": [
        "## 잘 작동하는지 테스트 해보기 (안되면 런타임 재실행)\n",
        "단, 런타임을 재실행하면 변수들이 초기화 되니 주의해야한다."
      ],
      "metadata": {
        "id": "A2VKrb32IMqD"
      }
    },
    {
      "cell_type": "code",
      "source": [
        "import matplotlib.pyplot as plt\n",
        "plt.plot([10, 20, 30, 40], 'hotpink')\n",
        "plt.title('한글 작동여부 테스트')\n",
        "plt.show()"
      ],
      "metadata": {
        "colab": {
          "base_uri": "https://localhost:8080/",
          "height": 279
        },
        "id": "DKmYe7quIQHF",
        "outputId": "d1c73d2b-3aa0-4fe0-85f7-8618d7660b23"
      },
      "execution_count": null,
      "outputs": [
        {
          "output_type": "display_data",
          "data": {
            "text/plain": [
              "<Figure size 432x288 with 1 Axes>"
            ],
            "image/png": "[encoded data removed]"
          },
          "metadata": {
            "needs_background": "light"
          }
        }
      ]
    },
    {
      "cell_type": "code",
      "source": [
        ""
      ],
      "metadata": {
        "id": "Rc715cxwIaB9"
      },
      "execution_count": null,
      "outputs": []
    }
  ]
}